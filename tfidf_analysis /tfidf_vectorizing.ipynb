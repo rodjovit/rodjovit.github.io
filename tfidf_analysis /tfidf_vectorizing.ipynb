{
 "cells": [
  {
   "cell_type": "code",
   "execution_count": 12,
   "metadata": {},
   "outputs": [],
   "source": [
    "import os\n",
    "import glob\n",
    "from nltk import word_tokenize\n",
    "from itertools import chain\n",
    "import pandas as pd\n",
    "import math\n",
    "import numpy as np\n",
    "\n",
    "#open and store file paths in a list\n",
    "files_path = []\n",
    "files_path = [file for file in glob.glob(r'cleaned_*.txt') if os.path.isfile(file)]\n",
    "\n",
    "cleaned_articles = []\n",
    "counter = 0\n",
    "#store text in a list\n",
    "for file in files_path:\n",
    "    with open(file,'r',encoding='utf-8', errors='replace') as f:\n",
    "        cleaned_articles.append(f.read())\n",
    "    counter += 1"
   ]
  },
  {
   "cell_type": "code",
   "execution_count": 13,
   "metadata": {},
   "outputs": [],
   "source": [
    "#tokenize articles\n",
    "tokenized_articles = []\n",
    "for article in cleaned_articles:\n",
    "    tokenized_articles.append(word_tokenize(article))\n",
    "\n",
    "#get total word count (w/ duplicates)\n",
    "counter = 0\n",
    "for articles in tokenized_articles:\n",
    "    for word in articles:\n",
    "        counter +=1\n",
    "\n",
    "#create vocabulary\n",
    "vocabulary = sorted(set(chain.from_iterable(tokenized_articles)))\n",
    "\n",
    "# print metrics for debugging\n",
    "# print('Vocabulary before set conversion:' + str(counter))\n",
    "# print('Length of Vocabulary: {}'.format(len(vocabulary)))\n",
    "# print(vocabulary)\n"
   ]
  },
  {
   "cell_type": "code",
   "execution_count": 14,
   "metadata": {},
   "outputs": [
    {
     "name": "stderr",
     "output_type": "stream",
     "text": [
      "/var/folders/_q/9sh2684d1t57tq5wdp7xn8s80000gn/T/ipykernel_67867/3142059339.py:26: SettingWithCopyWarning: \n",
      "A value is trying to be set on a copy of a slice from a DataFrame\n",
      "\n",
      "See the caveats in the documentation: https://pandas.pydata.org/pandas-docs/stable/user_guide/indexing.html#returning-a-view-versus-a-copy\n",
      "  tfidf_vectors['idf'].loc[token] = idf\n"
     ]
    },
    {
     "data": {
      "text/html": "<div>\n<style scoped>\n    .dataframe tbody tr th:only-of-type {\n        vertical-align: middle;\n    }\n\n    .dataframe tbody tr th {\n        vertical-align: top;\n    }\n\n    .dataframe thead th {\n        text-align: right;\n    }\n</style>\n<table border=\"1\" class=\"dataframe\">\n  <thead>\n    <tr style=\"text-align: right;\">\n      <th></th>\n      <th>0118_sports.txt</th>\n      <th>0518_business.txt</th>\n      <th>0515_politics.txt</th>\n      <th>0104_sports.txt</th>\n      <th>0305_tech.txt</th>\n      <th>0201_food.txt</th>\n      <th>9903_tech.txt</th>\n      <th>0310_science.txt</th>\n      <th>0109_sports.txt</th>\n      <th>0409_science.txt</th>\n      <th>...</th>\n      <th>9901_sports.txt</th>\n      <th>9904_science.txt</th>\n      <th>0218_food.txt</th>\n      <th>0219_food.txt</th>\n      <th>0302_science.txt</th>\n      <th>0317_tech.txt</th>\n      <th>0316_tech.txt</th>\n      <th>0407_science.txt</th>\n      <th>corpus_term_freq</th>\n      <th>idf</th>\n    </tr>\n  </thead>\n  <tbody>\n    <tr>\n      <th>aapl</th>\n      <td>0</td>\n      <td>0</td>\n      <td>0</td>\n      <td>0</td>\n      <td>0</td>\n      <td>0</td>\n      <td>0</td>\n      <td>0</td>\n      <td>0</td>\n      <td>0</td>\n      <td>...</td>\n      <td>0</td>\n      <td>0</td>\n      <td>0</td>\n      <td>0</td>\n      <td>0</td>\n      <td>0</td>\n      <td>0</td>\n      <td>0</td>\n      <td>1</td>\n      <td>21.74766</td>\n    </tr>\n    <tr>\n      <th>aaron</th>\n      <td>0</td>\n      <td>0</td>\n      <td>0</td>\n      <td>0</td>\n      <td>0</td>\n      <td>0</td>\n      <td>1</td>\n      <td>0</td>\n      <td>0</td>\n      <td>0</td>\n      <td>...</td>\n      <td>0</td>\n      <td>0</td>\n      <td>0</td>\n      <td>0</td>\n      <td>0</td>\n      <td>0</td>\n      <td>0</td>\n      <td>0</td>\n      <td>3</td>\n      <td>12.70799</td>\n    </tr>\n    <tr>\n      <th>ab</th>\n      <td>0</td>\n      <td>0</td>\n      <td>0</td>\n      <td>0</td>\n      <td>0</td>\n      <td>0</td>\n      <td>0</td>\n      <td>0</td>\n      <td>0</td>\n      <td>0</td>\n      <td>...</td>\n      <td>0</td>\n      <td>0</td>\n      <td>0</td>\n      <td>0</td>\n      <td>0</td>\n      <td>0</td>\n      <td>0</td>\n      <td>0</td>\n      <td>1</td>\n      <td>21.74766</td>\n    </tr>\n    <tr>\n      <th>abalone</th>\n      <td>0</td>\n      <td>0</td>\n      <td>0</td>\n      <td>0</td>\n      <td>0</td>\n      <td>0</td>\n      <td>0</td>\n      <td>0</td>\n      <td>0</td>\n      <td>0</td>\n      <td>...</td>\n      <td>0</td>\n      <td>0</td>\n      <td>0</td>\n      <td>0</td>\n      <td>0</td>\n      <td>0</td>\n      <td>0</td>\n      <td>0</td>\n      <td>1</td>\n      <td>21.74766</td>\n    </tr>\n    <tr>\n      <th>abandon</th>\n      <td>0</td>\n      <td>0</td>\n      <td>0</td>\n      <td>0</td>\n      <td>0</td>\n      <td>0</td>\n      <td>0</td>\n      <td>0</td>\n      <td>0</td>\n      <td>0</td>\n      <td>...</td>\n      <td>0</td>\n      <td>0</td>\n      <td>0</td>\n      <td>0</td>\n      <td>0</td>\n      <td>0</td>\n      <td>0</td>\n      <td>0</td>\n      <td>1</td>\n      <td>21.74766</td>\n    </tr>\n    <tr>\n      <th>...</th>\n      <td>...</td>\n      <td>...</td>\n      <td>...</td>\n      <td>...</td>\n      <td>...</td>\n      <td>...</td>\n      <td>...</td>\n      <td>...</td>\n      <td>...</td>\n      <td>...</td>\n      <td>...</td>\n      <td>...</td>\n      <td>...</td>\n      <td>...</td>\n      <td>...</td>\n      <td>...</td>\n      <td>...</td>\n      <td>...</td>\n      <td>...</td>\n      <td>...</td>\n      <td>...</td>\n    </tr>\n    <tr>\n      <th>zoom</th>\n      <td>0</td>\n      <td>0</td>\n      <td>0</td>\n      <td>0</td>\n      <td>0</td>\n      <td>0</td>\n      <td>0</td>\n      <td>0</td>\n      <td>0</td>\n      <td>0</td>\n      <td>...</td>\n      <td>0</td>\n      <td>0</td>\n      <td>0</td>\n      <td>0</td>\n      <td>0</td>\n      <td>0</td>\n      <td>0</td>\n      <td>0</td>\n      <td>1</td>\n      <td>21.74766</td>\n    </tr>\n    <tr>\n      <th>zucchini</th>\n      <td>0</td>\n      <td>0</td>\n      <td>0</td>\n      <td>0</td>\n      <td>0</td>\n      <td>0</td>\n      <td>0</td>\n      <td>0</td>\n      <td>0</td>\n      <td>0</td>\n      <td>...</td>\n      <td>0</td>\n      <td>0</td>\n      <td>0</td>\n      <td>0</td>\n      <td>0</td>\n      <td>0</td>\n      <td>0</td>\n      <td>0</td>\n      <td>1</td>\n      <td>21.74766</td>\n    </tr>\n    <tr>\n      <th>zuckerberg</th>\n      <td>0</td>\n      <td>0</td>\n      <td>0</td>\n      <td>0</td>\n      <td>0</td>\n      <td>0</td>\n      <td>1</td>\n      <td>0</td>\n      <td>0</td>\n      <td>0</td>\n      <td>...</td>\n      <td>0</td>\n      <td>0</td>\n      <td>0</td>\n      <td>0</td>\n      <td>0</td>\n      <td>0</td>\n      <td>0</td>\n      <td>0</td>\n      <td>5</td>\n      <td>9.32692</td>\n    </tr>\n    <tr>\n      <th>zuckerbergfacebookvirtual</th>\n      <td>0</td>\n      <td>0</td>\n      <td>0</td>\n      <td>0</td>\n      <td>0</td>\n      <td>0</td>\n      <td>0</td>\n      <td>0</td>\n      <td>0</td>\n      <td>0</td>\n      <td>...</td>\n      <td>0</td>\n      <td>0</td>\n      <td>0</td>\n      <td>0</td>\n      <td>0</td>\n      <td>0</td>\n      <td>0</td>\n      <td>0</td>\n      <td>1</td>\n      <td>21.74766</td>\n    </tr>\n    <tr>\n      <th>zuo</th>\n      <td>0</td>\n      <td>0</td>\n      <td>0</td>\n      <td>0</td>\n      <td>0</td>\n      <td>0</td>\n      <td>0</td>\n      <td>0</td>\n      <td>0</td>\n      <td>0</td>\n      <td>...</td>\n      <td>0</td>\n      <td>0</td>\n      <td>0</td>\n      <td>0</td>\n      <td>0</td>\n      <td>0</td>\n      <td>0</td>\n      <td>0</td>\n      <td>1</td>\n      <td>21.74766</td>\n    </tr>\n  </tbody>\n</table>\n<p>8785 rows × 108 columns</p>\n</div>",
      "text/plain": "                          0118_sports.txt 0518_business.txt 0515_politics.txt  \\\naapl                                    0                 0                 0   \naaron                                   0                 0                 0   \nab                                      0                 0                 0   \nabalone                                 0                 0                 0   \nabandon                                 0                 0                 0   \n...                                   ...               ...               ...   \nzoom                                    0                 0                 0   \nzucchini                                0                 0                 0   \nzuckerberg                              0                 0                 0   \nzuckerbergfacebookvirtual               0                 0                 0   \nzuo                                     0                 0                 0   \n\n                          0104_sports.txt 0305_tech.txt 0201_food.txt  \\\naapl                                    0             0             0   \naaron                                   0             0             0   \nab                                      0             0             0   \nabalone                                 0             0             0   \nabandon                                 0             0             0   \n...                                   ...           ...           ...   \nzoom                                    0             0             0   \nzucchini                                0             0             0   \nzuckerberg                              0             0             0   \nzuckerbergfacebookvirtual               0             0             0   \nzuo                                     0             0             0   \n\n                          9903_tech.txt 0310_science.txt 0109_sports.txt  \\\naapl                                  0                0               0   \naaron                                 1                0               0   \nab                                    0                0               0   \nabalone                               0                0               0   \nabandon                               0                0               0   \n...                                 ...              ...             ...   \nzoom                                  0                0               0   \nzucchini                              0                0               0   \nzuckerberg                            1                0               0   \nzuckerbergfacebookvirtual             0                0               0   \nzuo                                   0                0               0   \n\n                          0409_science.txt  ... 9901_sports.txt  \\\naapl                                     0  ...               0   \naaron                                    0  ...               0   \nab                                       0  ...               0   \nabalone                                  0  ...               0   \nabandon                                  0  ...               0   \n...                                    ...  ...             ...   \nzoom                                     0  ...               0   \nzucchini                                 0  ...               0   \nzuckerberg                               0  ...               0   \nzuckerbergfacebookvirtual                0  ...               0   \nzuo                                      0  ...               0   \n\n                          9904_science.txt 0218_food.txt 0219_food.txt  \\\naapl                                     0             0             0   \naaron                                    0             0             0   \nab                                       0             0             0   \nabalone                                  0             0             0   \nabandon                                  0             0             0   \n...                                    ...           ...           ...   \nzoom                                     0             0             0   \nzucchini                                 0             0             0   \nzuckerberg                               0             0             0   \nzuckerbergfacebookvirtual                0             0             0   \nzuo                                      0             0             0   \n\n                          0302_science.txt 0317_tech.txt 0316_tech.txt  \\\naapl                                     0             0             0   \naaron                                    0             0             0   \nab                                       0             0             0   \nabalone                                  0             0             0   \nabandon                                  0             0             0   \n...                                    ...           ...           ...   \nzoom                                     0             0             0   \nzucchini                                 0             0             0   \nzuckerberg                               0             0             0   \nzuckerbergfacebookvirtual                0             0             0   \nzuo                                      0             0             0   \n\n                          0407_science.txt corpus_term_freq       idf  \naapl                                     0                1  21.74766  \naaron                                    0                3  12.70799  \nab                                       0                1  21.74766  \nabalone                                  0                1  21.74766  \nabandon                                  0                1  21.74766  \n...                                    ...              ...       ...  \nzoom                                     0                1  21.74766  \nzucchini                                 0                1  21.74766  \nzuckerberg                               0                5   9.32692  \nzuckerbergfacebookvirtual                0                1  21.74766  \nzuo                                      0                1  21.74766  \n\n[8785 rows x 108 columns]"
     },
     "execution_count": 14,
     "metadata": {},
     "output_type": "execute_result"
    }
   ],
   "source": [
    "#create column headers\n",
    "column_headers = []\n",
    "for file in files_path:\n",
    "    column_headers.append(file.replace('/Users/rj/Desktop/Code/Web&TextMining/hw4/clean_articles/cleaned_',''))\n",
    "\n",
    "#create pandas dataframe\n",
    "tfidf_vectors = pd.DataFrame(index=vocabulary, columns=column_headers)\n",
    "\n",
    "#count appearances of each token in the article\n",
    "counter = 0\n",
    "for articles in tokenized_articles:\n",
    "    for token in tfidf_vectors.index:\n",
    "        tfidf_vectors[tfidf_vectors.columns[counter]].loc[token] = articles.count(token)\n",
    "    counter += 1\n",
    "\n",
    "#get number of articles each token appears in corpus specific term frequency\n",
    "tfidf_vectors['corpus_term_freq'] = tfidf_vectors.gt(0).sum(axis=1) \n",
    "\n",
    "#set up idf column\n",
    "number_of_documents = len(files_path)\n",
    "tfidf_vectors['idf'] = np.nan\n",
    "\n",
    "#calculate idf\n",
    "for token in tfidf_vectors.index:\n",
    "    idf = round((math.log(number_of_documents/tfidf_vectors['corpus_term_freq'].loc[token]))**2,5)\n",
    "    tfidf_vectors['idf'].loc[token] = idf\n",
    "\n",
    "#print dataframe for debugging\n",
    "# tfidf_vectors"
   ]
  },
  {
   "cell_type": "code",
   "execution_count": 15,
   "metadata": {},
   "outputs": [
    {
     "name": "stderr",
     "output_type": "stream",
     "text": [
      "/var/folders/_q/9sh2684d1t57tq5wdp7xn8s80000gn/T/ipykernel_67867/1982028603.py:15: SettingWithCopyWarning: \n",
      "A value is trying to be set on a copy of a slice from a DataFrame\n",
      "\n",
      "See the caveats in the documentation: https://pandas.pydata.org/pandas-docs/stable/user_guide/indexing.html#returning-a-view-versus-a-copy\n",
      "  tfidf_vectors2[tfidf_vectors2.columns[counter]].loc[row] = tfidf_vectors[tfidf_vectors.columns[counter]].loc[row]*tfidf_vectors2['idf'].loc[row]\n"
     ]
    }
   ],
   "source": [
    "#create 2nd dataframe for final tfidf calculation\n",
    "column_headers2 = []\n",
    "\n",
    "#get headers\n",
    "for file in files_path:\n",
    "    column_headers2.append(file.replace('/Users/rj/Desktop/Code/Web&TextMining/hw4/clean_articles/cleaned_','')+'-tfidf')\n",
    "tfidf_vectors2 = pd.DataFrame(index=vocabulary, columns=column_headers2)\n",
    "for index in tfidf_vectors['idf']:\n",
    "    tfidf_vectors2['idf'] = tfidf_vectors['idf']\n",
    "\n",
    "#calculate tfidf\n",
    "counter = 0\n",
    "for column in tfidf_vectors2.columns:\n",
    "    for row in tfidf_vectors2.index:\n",
    "        tfidf_vectors2[tfidf_vectors2.columns[counter]].loc[row] = tfidf_vectors[tfidf_vectors.columns[counter]].loc[row]*tfidf_vectors2['idf'].loc[row]\n",
    "    counter += 1\n",
    "\n",
    "#generate spreadsheet\n",
    "#tfidf_vectors.to_excel('idf_data.xlsx')\n",
    "tfidf_vectors2.to_excel('group_04_tfidf_vectors.xlsx')\n",
    "\n",
    "#print dataframe for debugging\n",
    "# tfidf_vectors2"
   ]
  }
 ],
 "metadata": {
  "kernelspec": {
   "display_name": "Python 3.11.4 64-bit ('base': conda)",
   "name": "python3114jvsc74a57bd0e30f58353c0181c56cdcf393d9164478557b8b57fa2008dafe2a4c479e2a21a0"
  },
  "language_info": {
   "codemirror_mode": {
    "name": "ipython",
    "version": 3
   },
   "file_extension": ".py",
   "mimetype": "text/x-python",
   "name": "python",
   "nbconvert_exporter": "python",
   "pygments_lexer": "ipython3",
   "version": "3.11.4"
  },
  "metadata": {
   "interpreter": {
    "hash": "e30f58353c0181c56cdcf393d9164478557b8b57fa2008dafe2a4c479e2a21a0"
   }
  },
  "orig_nbformat": 2
 },
 "nbformat": 4,
 "nbformat_minor": 2
}
