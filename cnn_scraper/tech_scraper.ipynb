{
 "cells": [
  {
   "cell_type": "code",
   "execution_count": 60,
   "metadata": {},
   "outputs": [],
   "source": [
    "from bs4 import BeautifulSoup\n",
    "import requests\n",
    "\n",
    "#setup\n",
    "base = 'https://cnn.com/'\n",
    "links = []\n",
    "headlines = []\n",
    "\n",
    "#set target genre\n",
    "url = 'https://www.cnn.com/business/tech'\n",
    "page = requests.get(url)\n",
    "soup = BeautifulSoup(page.content, 'lxml')\n",
    "counter = 1\n"
   ]
  },
  {
   "cell_type": "code",
   "execution_count": 61,
   "metadata": {},
   "outputs": [
    {
     "name": "stdout",
     "output_type": "stream",
     "text": [
      "1) https://cnn.com/2023/09/25/tech/chatgpt-open-ai-humanlike-update/index.html\n",
      "2) https://cnn.com/2023/09/25/tech/amazon-invests-anthropic-ai/index.html\n",
      "3) https://cnn.com/2023/09/25/tech/huawei-mate-60-pro-product-launch/index.html\n",
      "4) https://cnn.com/2023/09/22/tech/generative-ai-corporate-policy/index.html\n",
      "5) https://cnn.com/2023/09/22/tech/apple-iphone-15-release/index.html\n",
      "6) https://cnn.com/2023/09/22/tech/microsoft-activision-uk-progress/index.html\n",
      "7) https://cnn.com/2023/09/22/tech/ggv-capital-us-china-split-intl-hnk/index.html\n",
      "8) https://cnn.com/2023/09/21/tech/cisco-splunk-acquisition/index.html\n"
     ]
    }
   ],
   "source": [
    "#scrape for 32 potential links   \n",
    "for link in soup.find_all('a', {\"class\" : \"container__link container_lead-plus-headlines-with-images__link\"})[:32]:\n",
    "    #cnn uses link format twice (for headline hyperlink and thumbnail hyperlink), so to avoid scraping same uri twice\n",
    "    #do not want video articles\n",
    "    if \"videos\" not in link.get('href'):\n",
    "        if not (counter % 2 == 0):\n",
    "            links.append(base[:-1]+link.get('href'))\n",
    "        counter += 1\n",
    "\n",
    "counter = 1\n",
    "for link in links:\n",
    "    print(str(counter) + ') ' + link)\n",
    "    counter += 1"
   ]
  },
  {
   "cell_type": "code",
   "execution_count": 62,
   "metadata": {},
   "outputs": [
    {
     "name": "stdout",
     "output_type": "stream",
     "text": [
      "1) \n",
      "      Now you can speak to ChatGPT — and it will talk back\n",
      "    \n",
      "2) \n",
      "      Amazon invests up to $4 billion in Anthropic AI in exchange for minority stake and further AWS integration\n",
      "    \n",
      "3) \n",
      "      ‘Where is the phone?’ Huawei keeps quiet about Mate 60 Pro but takes aim at Tesla\n",
      "    \n",
      "4) \n",
      "      How companies are embracing generative AI for employees…or not\n",
      "    \n"
     ]
    }
   ],
   "source": [
    "\n",
    "counter = 1\n",
    "#scrape for headlines\n",
    "for link in links[:4]:\n",
    "    #setup soup\n",
    "    url = link\n",
    "    page = requests.get(url)\n",
    "    soup = BeautifulSoup(page.content,'lxml')\n",
    "\n",
    "    for headline in soup.find_all('h1', {\"class\":\"headline__text inline-placeholder\"}):\n",
    "        headlines.append(\"{}\".format(headline.text))\n",
    "\n",
    "for headline in headlines:\n",
    "    print(str(counter) + ') ' + headline)\n",
    "    counter += 1"
   ]
  },
  {
   "cell_type": "code",
   "execution_count": 63,
   "metadata": {},
   "outputs": [],
   "source": [
    "counter = 1\n",
    "#scrape 4 tech links for info\n",
    "for link in links[:4]:\n",
    "    #setup soup\n",
    "    url = link\n",
    "    page = requests.get(url)\n",
    "    soup = BeautifulSoup(page.content,'lxml')\n",
    "    #visual separator\n",
    "    if counter<10: \n",
    "        file = open(\"tech_040\"+str(counter)+\".txt\",'w')\n",
    "    else:\n",
    "        file = open(\"tech_04\"+str(counter)+\".txt\",'w')\n",
    "    file.write(\"\\n**********************************************************\\n\")\n",
    "    file.write(link + '\\n')\n",
    "    file.write('\\n'+str(counter) +\") \" + headlines[counter-1])\n",
    "    file.write('\\n')\n",
    "    #print scraped info\n",
    "    for location in soup.find_all('div', {\"class\":\"byline__names\"}):\n",
    "    #CNN is based in Atlanta, Georgia. All articles are published by CNN\n",
    "        file.write(location.text.strip() + \" Atlanta, Georgia\")\n",
    "    for date in soup.find_all('div', {\"class\" : \"timestamp\"}):\n",
    "        file.write(\"\\n\" + date.text.strip() + '\\n')\n",
    "    for content in soup.find_all('p', {\"class\" : \"paragraph\"}):\n",
    "        file.write(content.text.strip())\n",
    "    file.close()\n",
    "    counter+=1"
   ]
  }
 ],
 "metadata": {
  "kernelspec": {
   "display_name": "Python 3.11.4 64-bit ('base': conda)",
   "name": "python3114jvsc74a57bd0e30f58353c0181c56cdcf393d9164478557b8b57fa2008dafe2a4c479e2a21a0"
  },
  "language_info": {
   "codemirror_mode": {
    "name": "ipython",
    "version": 3
   },
   "file_extension": ".py",
   "mimetype": "text/x-python",
   "name": "python",
   "nbconvert_exporter": "python",
   "pygments_lexer": "ipython3",
   "version": "3.11.4"
  },
  "metadata": {
   "interpreter": {
    "hash": "e30f58353c0181c56cdcf393d9164478557b8b57fa2008dafe2a4c479e2a21a0"
   }
  },
  "orig_nbformat": 2
 },
 "nbformat": 4,
 "nbformat_minor": 2
}